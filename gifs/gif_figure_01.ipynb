{
 "cells": [
  {
   "cell_type": "markdown",
   "id": "06e3a2be-3e0b-4bdd-863b-1d5410ec0650",
   "metadata": {},
   "source": [
    "# Notebook to make `gif` version of Figure 1"
   ]
  },
  {
   "cell_type": "code",
   "execution_count": null,
   "id": "35ce1b40-c7e7-42fb-8cfd-5b57392489a1",
   "metadata": {},
   "outputs": [],
   "source": [
    "# Import necessary packages & set-up plotting aesthetics\n",
    "\n",
    "import numpy as np \n",
    "import importlib\n",
    "import json\n",
    "import h5ify\n",
    "import os\n",
    "import tqdm\n",
    "import imageio\n",
    "\n",
    "import matplotlib\n",
    "%matplotlib inline\n",
    "%config InlineBackend.figure_format = 'retina'\n",
    "import matplotlib.pyplot as plt\n",
    "from matplotlib import style\n",
    "style.use('../utils/plotting.mplstyle')\n",
    "from matplotlib.lines import Line2D\n",
    "\n",
    "import seaborn as sns\n",
    "cp = sns.color_palette('muted')\n",
    "cp2 = sns.color_palette('pastel')\n",
    "\n",
    "import sys\n",
    "sys.path.append('../utils')\n",
    "import plotting_functions as pf\n",
    "\n",
    "# where data is saved\n",
    "data_dir = '../data/real_and_maxL_GW190521/'"
   ]
  },
  {
   "cell_type": "markdown",
   "id": "5af05488-fd30-43c3-af2e-f526f60253ed",
   "metadata": {},
   "source": [
    "### Setup"
   ]
  },
  {
   "cell_type": "markdown",
   "id": "a901edfe-9585-4123-b165-60b1c05860e5",
   "metadata": {},
   "source": [
    "Load data"
   ]
  },
  {
   "cell_type": "code",
   "execution_count": 1,
   "id": "bebb8f6d-cd08-431b-9d7f-1083f29506c7",
   "metadata": {},
   "outputs": [],
   "source": [
    "# Load in the posteriors \n",
    "posteriors_dict = {\n",
    "    'realData' : h5ify.load(data_dir+'GW190521_realData.h5'), \n",
    "    'maxL' : h5ify.load(data_dir+'GW190521_maxL.h5')\n",
    "}\n",
    "\n",
    "# Load in the prior\n",
    "prior_dict = h5ify.load(data_dir+'prior.h5')\n",
    "\n",
    "# Load in the maxL parameters\n",
    "maxL_params = h5ify.load(data_dir+'GW190521_maxL_parameters.h5')\n",
    "\n",
    "# Load in the strain \n",
    "strain_fpath = data_dir+'GW190521_maxL_strain_conditioned.json'\n",
    "with open(strain_fpath, 'r') as file:\n",
    "    strain_dict = json.load(file)"
   ]
  },
  {
   "cell_type": "markdown",
   "id": "c3a93fb0-cc13-48f4-8b52-6116347052e0",
   "metadata": {},
   "source": [
    "Set up plotting aesthetics"
   ]
  },
  {
   "cell_type": "code",
   "execution_count": 2,
   "id": "e0f8217d-48c4-4831-b555-204f054b30b4",
   "metadata": {},
   "outputs": [
    {
     "name": "stderr",
     "output_type": "stream",
     "text": [
      "<>:5: SyntaxWarning: invalid escape sequence '\\c'\n",
      "<>:5: SyntaxWarning: invalid escape sequence '\\c'\n",
      "/local/simona.miller/ipykernel_2171102/2494560779.py:5: SyntaxWarning: invalid escape sequence '\\c'\n",
      "  'chi_p_m100M':'\\chi_p'\n"
     ]
    }
   ],
   "source": [
    "# Set up plotting \n",
    "params = {\n",
    "    'mtotal':'M', \n",
    "    'q':'q', \n",
    "    'chi_p_m100M':'\\chi_p'\n",
    "}\n",
    "\n",
    "plotting_kws = {\n",
    "    'maxL pre':dict(color=cp[0], histtype='step', lw=2, density=True, label=r'max. $\\mathcal{L}$ pre-$t_\\mathrm{cut}$'), \n",
    "    'maxL post':dict(color=cp[1], histtype='step', lw=2, density=True, label=r'max. $\\mathcal{L}$ post-$t_\\mathrm{cut}$'), \n",
    "    'maxL full':dict(color='k', histtype='step', lw=2, density=True, label=r'max. $\\mathcal{L}$ full'), \n",
    "    \n",
    "    'realData pre':dict(color=cp2[0], histtype='stepfilled', alpha=0.7, density=True, label=r'real data pre-$t_\\mathrm{cut}$'), \n",
    "    'realData post':dict(color=cp2[1], histtype='stepfilled', alpha=0.7, density=True, label=r'real data post-$t_\\mathrm{cut}$'), \n",
    "    'realData full':dict(color='k', histtype='stepfilled', alpha=0.3, density=True, label='real data full'), \n",
    "    \n",
    "    'prior':dict(color='gray', lw=2, ls=':', histtype='step', density=True, label='prior')\n",
    "}\n",
    "\n",
    "ymaxes = {\n",
    "    'mtotal':0.051, \n",
    "    'q':5, \n",
    "    'chi_p_m100M':2.95\n",
    "}\n",
    "\n",
    "bounds_dict = {\n",
    "    'mtotal':[200,320], \n",
    "    'q':[0.18, 1],\n",
    "    'chi_p_m100M':[0,1],\n",
    "}"
   ]
  },
  {
   "cell_type": "code",
   "execution_count": 3,
   "id": "8032cf2b-a59a-4b3f-806f-a58d81b0b53a",
   "metadata": {},
   "outputs": [],
   "source": [
    "# get times and units \n",
    "importlib.reload(pf)\n",
    "_times = list(posteriors_dict['realData'].keys())\n",
    "cuts_float, unit = pf.get_unique_times(_times)"
   ]
  },
  {
   "cell_type": "markdown",
   "id": "17623f57-45e8-4807-b55b-ede9d62c6c16",
   "metadata": {},
   "source": [
    "### Make animation"
   ]
  },
  {
   "cell_type": "code",
   "execution_count": 4,
   "id": "eeae0355-55cf-48f1-8c98-7c71d35c69d6",
   "metadata": {},
   "outputs": [
    {
     "name": "stdout",
     "output_type": "stream",
     "text": [
      "0\n",
      "1\n",
      "2\n",
      "3\n",
      "4\n",
      "5\n",
      "6\n",
      "7\n",
      "8\n",
      "9\n",
      "10\n",
      "11\n",
      "12\n",
      "13\n",
      "14\n"
     ]
    }
   ],
   "source": [
    "frames = []\n",
    "\n",
    "for n, cut in enumerate(cuts_float): \n",
    "    \n",
    "    print(n)\n",
    "    \n",
    "    cuts = [int(c) if c.is_integer() else c for c in [cut]]\n",
    "\n",
    "    # get plot\n",
    "    fig, axes = pf.plot_posteriors_and_waveform(\n",
    "        posteriors_dict, cuts, params, maxL_params, ymaxes, plotting_kws, strain_dict, prior_dict=prior_dict, unit='M' \n",
    "    )\n",
    "\n",
    "    # add legend\n",
    "    key_order = ['realData full', 'maxL full', 'realData pre', 'maxL pre', 'realData post', 'maxL post', 'prior']\n",
    "    handles = [\n",
    "        Line2D(\n",
    "            [], [],\n",
    "            color = plotting_kws[x]['color'], \n",
    "            label = plotting_kws[x]['label'], \n",
    "            alpha = plotting_kws[x]['alpha'] if 'alpha' in plotting_kws[x].keys() else 1, \n",
    "            ls = plotting_kws[x]['ls'] if 'ls' in plotting_kws[x].keys() else '-'\n",
    "        ) \n",
    "        for x in key_order\n",
    "    ]\n",
    "    handles.append(Line2D([], [], color=cp[3], label=r'max. $\\mathcal{L}$ truth'))\n",
    "\n",
    "\n",
    "    legend_kws = dict(\n",
    "        handles=handles, ncol=int(len(handles)/2), loc='upper center', bbox_to_anchor=(0.5, 1.1), \n",
    "        handlelength=2\n",
    "    )\n",
    "\n",
    "    pf.add_legend(fig, **legend_kws)\n",
    "    \n",
    "    # savename\n",
    "    savename = f'for_gif_figure_01/frame{n:02}.png'\n",
    "    plt.savefig(savename, dpi=300, bbox_inches='tight')\n",
    "    plt.close()\n",
    "    \n",
    "    # append to `frames` which will be used to make the gif\n",
    "    image = imageio.v2.imread(savename)\n",
    "    frames.append(image)"
   ]
  },
  {
   "cell_type": "code",
   "execution_count": 5,
   "id": "2eb3d4ef-8568-4faa-8748-c787dcd9fd67",
   "metadata": {},
   "outputs": [],
   "source": [
    "# Assemble into a gif\n",
    "fps = 1.5\n",
    "imageio.mimsave('gif_figure_01.gif', frames, fps=fps)  "
   ]
  },
  {
   "cell_type": "code",
   "execution_count": null,
   "id": "d7b4d85c-9b77-4ab2-9f2e-dc26cb352b70",
   "metadata": {},
   "outputs": [],
   "source": []
  }
 ],
 "metadata": {
  "kernelspec": {
   "display_name": "numpyro",
   "language": "python",
   "name": "numpyro"
  },
  "language_info": {
   "codemirror_mode": {
    "name": "ipython",
    "version": 3
   },
   "file_extension": ".py",
   "mimetype": "text/x-python",
   "name": "python",
   "nbconvert_exporter": "python",
   "pygments_lexer": "ipython3",
   "version": "3.12.0"
  }
 },
 "nbformat": 4,
 "nbformat_minor": 5
}
