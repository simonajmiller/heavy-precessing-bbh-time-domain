{
 "cells": [
  {
   "cell_type": "markdown",
   "id": "06e3a2be-3e0b-4bdd-863b-1d5410ec0650",
   "metadata": {},
   "source": [
    "# Notebook to make `gif` version of Figure x"
   ]
  },
  {
   "cell_type": "code",
   "execution_count": null,
   "id": "35ce1b40-c7e7-42fb-8cfd-5b57392489a1",
   "metadata": {},
   "outputs": [],
   "source": [
    "# Import necessary packages & set-up plotting aesthetics\n",
    "\n",
    "import numpy as np \n",
    "import importlib\n",
    "import json\n",
    "import h5ify\n",
    "import os\n",
    "import tqdm\n",
    "import imageio\n",
    "\n",
    "import matplotlib\n",
    "%matplotlib inline\n",
    "%config InlineBackend.figure_format = 'retina'\n",
    "import matplotlib.pyplot as plt\n",
    "from matplotlib import style\n",
    "style.use('../utils/plotting.mplstyle')\n",
    "from matplotlib.lines import Line2D\n",
    "\n",
    "import seaborn as sns\n",
    "cp = sns.color_palette('muted')\n",
    "cp2 = sns.color_palette('pastel')\n",
    "\n",
    "import sys\n",
    "sys.path.append('../utils')\n",
    "import plotting_functions as pf\n",
    "\n",
    "# where data is saved\n",
    "data_dir = '../data/different_SNRs/'"
   ]
  },
  {
   "cell_type": "markdown",
   "id": "5af05488-fd30-43c3-af2e-f526f60253ed",
   "metadata": {},
   "source": [
    "### Setup"
   ]
  },
  {
   "cell_type": "markdown",
   "id": "a901edfe-9585-4123-b165-60b1c05860e5",
   "metadata": {},
   "source": [
    "Load data"
   ]
  },
  {
   "cell_type": "code",
   "execution_count": 1,
   "id": "d7b4d85c-9b77-4ab2-9f2e-dc26cb352b70",
   "metadata": {},
   "outputs": [],
   "source": [
    "# Load in posteriors\n",
    "posteriors_dict = h5ify.load(data_dir+'posteriors_different_SNRs.h5'),\n",
    "\n",
    "# Load in the prior\n",
    "prior_dict = h5ify.load(data_dir+'../real_and_maxL_GW190521/prior.h5')\n",
    "\n",
    "# Load in the signals' parameters\n",
    "injected_params_dict = h5ify.load(data_dir+'parameters_different_SNRs.h5')\n",
    "\n",
    "# Load in the signals' strain\n",
    "injection_strain_dict = h5ify.load(data_dir+'waveforms_different_SNRs.h5')"
   ]
  },
  {
   "cell_type": "markdown",
   "id": "6e867fe7-e83a-40b2-980b-b37e22b7ab51",
   "metadata": {},
   "source": [
    "Set up plotting aesthetics"
   ]
  },
  {
   "cell_type": "code",
   "execution_count": 2,
   "id": "a4d0c6f5-c844-4e29-8bb3-14fcbf4200dd",
   "metadata": {},
   "outputs": [],
   "source": [
    "# which SNRs to plot \n",
    "SNRs_to_plot = ['SNR 15', 'SNR 20', 'SNR 30', 'SNR 40']\n",
    "\n",
    "# colors associated with each SNR\n",
    "colors = [cp[2], cp[8] , cp2[3], cp[3]]\n",
    "\n",
    "# mass of the injections\n",
    "M_inj = injected_params_dict['SNR 15']['mtotal']"
   ]
  },
  {
   "cell_type": "code",
   "execution_count": 14,
   "id": "83b6054f-5eb2-469a-aaaa-f3376854cc06",
   "metadata": {},
   "outputs": [],
   "source": [
    "# get times and units \n",
    "importlib.reload(pf)\n",
    "cutoff_cycles = list(posteriors_dict[0]['SNR 15'].keys())\n",
    "cuts_float, unit = pf.get_unique_times(cutoff_cycles)"
   ]
  },
  {
   "cell_type": "markdown",
   "id": "1da4b709-069c-4daf-8793-f4ee3c3290b9",
   "metadata": {},
   "source": [
    "### Make animation"
   ]
  },
  {
   "cell_type": "code",
   "execution_count": 38,
   "id": "fcde8a4d-b60a-4a32-9b32-69812176edcd",
   "metadata": {},
   "outputs": [],
   "source": [
    "frames = []\n",
    "\n",
    "for n, cycle in enumerate(cuts_float): \n",
    "\n",
    "    # make figure\n",
    "    fig, axes = plt.subplots(1, 2, figsize=(pf.DEFAULT_FIG_WIDTH, pf.DEFAULT_FIG_WIDTH/3.4))\n",
    "\n",
    "    handles = []\n",
    "    \n",
    "    # cycle through cutoff times and SNRs\n",
    "    for SNR, color in zip(SNRs_to_plot, colors): \n",
    "                        \n",
    "        # plot injections\n",
    "        ax = axes[0]\n",
    "        \n",
    "        injection = injection_strain_dict[SNR]\n",
    "        \n",
    "        ifo = 'L1'\n",
    "        ref_time_ifo = injected_params_dict[SNR][f'{ifo}_time']\n",
    "        times = injection['time_dict'][ifo] - ref_time_ifo\n",
    "        times_M = pf.transform_s_to_M(times, M_inj)\n",
    "        strain_wh = injection['strain_wh'][ifo]\n",
    "        \n",
    "        # get time from cycle\n",
    "        t = round(pf.get_tcut_from_Ncycles(injection['strain'][ifo], times, float(cycle)), 3)\n",
    "        \n",
    "        ax.plot(times_M, strain_wh, c=color)\n",
    "        pf.set_limits_and_labels_of_whitened_wf_plot(ax, unit='M')        \n",
    "        ax.set_ylim(-5.7,5.5)\n",
    "        \n",
    "        t_M = np.round(pf.transform_s_to_M(t, M_inj),1)\n",
    "        ax.text(0.04, 0.93, fr'$t_{{\\rm cut}} = {t_M}\\,M$', ha='left', va='top', \n",
    "                transform=ax.transAxes, fontsize=14, zorder=5, \n",
    "                bbox=dict(facecolor='white', alpha=0.9, edgecolor='silver', boxstyle='round'))\n",
    "        \n",
    "        if i!=0:\n",
    "            ax.set_ylabel('')\n",
    "        \n",
    "        # plot chi-p posteriors\n",
    "        ax = axes[1]\n",
    "    \n",
    "        posterior = posteriors_dict[0][SNR][f'post {cycle}cycles']\n",
    "        \n",
    "        p = 'chi_p'\n",
    "        bins = np.linspace(pf.xlims[p][0],  pf.xlims[p][-1], 25)\n",
    "        hist_kws = dict(histtype='step', density=True, bins=bins, lw=1.5, color=color)\n",
    "        prior_hist_kws = dict(histtype='step', density=True, bins=bins, lw=1.5, \n",
    "                              color='gray', ls=':', zorder=0)\n",
    "        \n",
    "        ymax = 4.3\n",
    "        pf.plot_posterior(ax, posterior[p], pf.xlims[p], ymax, pf.params[p], ylabel='Probability\\ndensity', **hist_kws)\n",
    "        pf.plot_posterior(ax, prior_dict[p], pf.xlims[p], ymax, pf.params[p], ylabel='Probability\\ndensity', **prior_hist_kws)\n",
    "        \n",
    "        true_value = injected_params_dict[SNR][p]\n",
    "        ax.axvline(true_value, color='k', lw=1.5, ls='--')\n",
    "        \n",
    "        if i!=0: \n",
    "            ax.set_ylabel('')\n",
    "        else: \n",
    "            # concatenate for legend\n",
    "            handles.append(Line2D([], [], color=color, label = fr'$\\rho_{{\\rm full}} = {SNR[-2:]}$'))\n",
    "        \n",
    "    # shade out the excluded data\n",
    "    ax = axes[0]\n",
    "    ax.fill_betweenx(ax.get_ylim(), ax.get_xlim()[0], float(t_M), color='gray', alpha=0.8, zorder=3, hatch='/')\n",
    "\n",
    "    # adjust spacing\n",
    "    plt.subplots_adjust(wspace=0.3) \n",
    "\n",
    "    # add legend\n",
    "    handles.append(Line2D([], [], color='gray', ls=':', label = 'prior')) \n",
    "    pf.add_legend(fig, handle_lw=3, handles=handles, ncol=len(handles), loc='upper center', \n",
    "                  bbox_to_anchor=(0.5, 1.05), handlelength=3.7)\n",
    "\n",
    "    # savename\n",
    "    savename = f'for_gif_figure_02/frame{n:02}.png'\n",
    "    plt.savefig(savename, dpi=300, bbox_inches='tight')\n",
    "    plt.close()\n",
    "    \n",
    "    # append to `frames` which will be used to make the gif\n",
    "    image = imageio.v2.imread(savename)\n",
    "    frames.append(image)"
   ]
  },
  {
   "cell_type": "code",
   "execution_count": 40,
   "id": "28c5f98b-cccc-4d45-85d1-48637a5e1379",
   "metadata": {},
   "outputs": [],
   "source": [
    "# Assemble into a gif\n",
    "fps = 1.5\n",
    "imageio.mimsave('gif_figure_02.gif', frames, fps=fps) "
   ]
  },
  {
   "cell_type": "code",
   "execution_count": null,
   "id": "ef18a69a-3df1-4a54-86c6-289a1570b1cd",
   "metadata": {},
   "outputs": [],
   "source": []
  }
 ],
 "metadata": {
  "kernelspec": {
   "display_name": "numpyro",
   "language": "python",
   "name": "numpyro"
  },
  "language_info": {
   "codemirror_mode": {
    "name": "ipython",
    "version": 3
   },
   "file_extension": ".py",
   "mimetype": "text/x-python",
   "name": "python",
   "nbconvert_exporter": "python",
   "pygments_lexer": "ipython3",
   "version": "3.12.0"
  }
 },
 "nbformat": 4,
 "nbformat_minor": 5
}
