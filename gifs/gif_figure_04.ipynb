{
 "cells": [
  {
   "cell_type": "markdown",
   "id": "06e3a2be-3e0b-4bdd-863b-1d5410ec0650",
   "metadata": {},
   "source": [
    "# Notebook to make `gif` version of Figure 4"
   ]
  },
  {
   "cell_type": "code",
   "execution_count": null,
   "id": "35ce1b40-c7e7-42fb-8cfd-5b57392489a1",
   "metadata": {},
   "outputs": [],
   "source": [
    "# Import necessary packages & set-up plotting aesthetics\n",
    "\n",
    "import numpy as np \n",
    "import importlib\n",
    "import json\n",
    "import h5ify\n",
    "import os\n",
    "import tqdm\n",
    "import imageio\n",
    "\n",
    "import matplotlib\n",
    "%matplotlib inline\n",
    "%config InlineBackend.figure_format = 'retina'\n",
    "import matplotlib.pyplot as plt\n",
    "from matplotlib import style\n",
    "style.use('../utils/plotting.mplstyle')\n",
    "from matplotlib.lines import Line2D\n",
    "\n",
    "import seaborn as sns\n",
    "cp = sns.color_palette('muted')\n",
    "cp2 = sns.color_palette('pastel')\n",
    "cp3 = sns.color_palette('dark')\n",
    "\n",
    "import sys\n",
    "sys.path.append('../utils')\n",
    "import plotting_functions as pf\n",
    "\n",
    "# where data is saved\n",
    "data_dir = '../data/different_total_masses/'"
   ]
  },
  {
   "cell_type": "markdown",
   "id": "5af05488-fd30-43c3-af2e-f526f60253ed",
   "metadata": {},
   "source": [
    "### Setup"
   ]
  },
  {
   "cell_type": "markdown",
   "id": "a901edfe-9585-4123-b165-60b1c05860e5",
   "metadata": {},
   "source": [
    "Load data"
   ]
  },
  {
   "cell_type": "code",
   "execution_count": 1,
   "id": "d7b4d85c-9b77-4ab2-9f2e-dc26cb352b70",
   "metadata": {},
   "outputs": [],
   "source": [
    "# Load in posteriors\n",
    "posteriors_dict = h5ify.load(data_dir+'posteriors_different_total_masses.h5'),\n",
    "\n",
    "# Load in the prior\n",
    "prior_dict = h5ify.load(data_dir+'../real_and_maxL_GW190521/prior.h5')\n",
    "\n",
    "# Load in the signals' parameters\n",
    "injected_params_dict = h5ify.load(data_dir+'parameters_different_total_masses.h5')\n",
    "\n",
    "# Load in the signals' strain\n",
    "diff_mass_injs = h5ify.load(data_dir+'waveforms_different_total_masses.h5')"
   ]
  },
  {
   "cell_type": "markdown",
   "id": "890d4cf3-d338-46e1-9e3f-daa8a654cbba",
   "metadata": {},
   "source": [
    "Set up plotting aesthetics"
   ]
  },
  {
   "cell_type": "code",
   "execution_count": 6,
   "id": "35183754-c221-480f-b566-a5827465af7f",
   "metadata": {},
   "outputs": [],
   "source": [
    "# Which total masses to plot\n",
    "masses = [80, 100, 120, 270, 500]\n",
    "masses_to_plot = [f'total mass {Mtot}' for Mtot in masses]\n",
    "\n",
    "# Associated colors and labels\n",
    "colors = [cp3[6], cp2[6],  'mediumpurple', cp3[0], cp2[0]]\n",
    "labels = [fr'$M = {Mtot} \\, M_\\odot$' for Mtot in masses]\n",
    "\n",
    "# Get the prior samples for chi_p\n",
    "chip_prior = np.asarray(prior_dict['chi_p'])\n",
    "\n",
    "# For text on figures \n",
    "bbox_dict=dict(facecolor='white', edgecolor='silver', boxstyle='round')\n",
    "\n",
    "# For posterior/prior histograms\n",
    "chip_ymax = 3.5\n",
    "hist_bins = np.linspace(pf.xlims['chi_p'][0],  pf.xlims['chi_p'][-1], 30)\n",
    "prior_hist_kws = dict(histtype='step', density=True, bins=hist_bins, lw=1.5, color='gray', ls=':', zorder=0)"
   ]
  },
  {
   "cell_type": "markdown",
   "id": "7c66ae40-fc8d-4640-b722-1d9171ba241b",
   "metadata": {},
   "source": [
    "### Make animation"
   ]
  },
  {
   "cell_type": "code",
   "execution_count": 44,
   "id": "3410f1e9-8bcc-4244-8498-60d99bfdc60e",
   "metadata": {},
   "outputs": [],
   "source": [
    "frames = []\n",
    "\n",
    "for n, cycle in enumerate(pf.cutoff_cycles_all[:-2]):\n",
    "    \n",
    "    fig = plt.figure(figsize=(pf.DEFAULT_FIG_WIDTH, pf.DEFAULT_FIG_WIDTH/1.5))\n",
    "    axes1, axes2 = pf.custom_axes(2, [1, 2])\n",
    "\n",
    "    # TOP ROW: waveforms with cutoff times\n",
    "    ax = axes1[0]\n",
    "\n",
    "    i=5\n",
    "    for m,c,l in zip(masses_to_plot,colors,labels): \n",
    "\n",
    "        # injected\n",
    "        times_s = np.asarray(diff_mass_injs[m]['time_dict']['L1']) - injected_params_dict[m]['L1_time']\n",
    "        injected_wf = diff_mass_injs[m]['strain_wh']['L1']\n",
    "\n",
    "        # transform times\n",
    "        mass = int(m[-3:])\n",
    "        times_M = pf.transform_s_to_M(times_s, mass)\n",
    "\n",
    "        # plot\n",
    "        ax.plot(times_M, injected_wf, color=c, label=l, zorder=i)\n",
    "        i = i - 1\n",
    "\n",
    "        #  vertical lines at the cutoff time \n",
    "        if '270' in m:\n",
    "\n",
    "            t = pf.cycles_to_times_dict[m][cycle]\n",
    "            tc_M = pf.transform_s_to_M(float(t), mass) # transform seconds -> M\n",
    "\n",
    "            ax.axvline(tc_M, color='k', ls='--', lw=2, zorder=6)\n",
    "\n",
    "    ax.set_xlim(-150,70)\n",
    "    ax.set_ylim(-3.1,3.1)\n",
    "    ax.set_xlabel(r'$t$~[$M$]')\n",
    "    ax.set_ylabel(r'$\\hat h_{\\rm LLO}$')\n",
    "    ax.legend(loc='upper left', frameon=True)\n",
    "\n",
    "\n",
    "    ## BOTTOM ROW: PRE- AND POST-CUTOFF POSTERIORS\n",
    "\n",
    "    for color, mtotal in zip(colors, masses_to_plot): \n",
    "\n",
    "        # plot chi-p posteriors\n",
    "        for prepost, ax in zip(['pre', 'post'], axes2): \n",
    "\n",
    "            t = pf.cycles_to_times_dict[mtotal][cycle]\n",
    "            chip_posterior = posteriors_dict[0][mtotal][f'{prepost}_{t}']['chi_precessing']\n",
    "\n",
    "            hist_kws = dict(histtype='step', density=True, bins=hist_bins, lw=1.5, color=color)\n",
    "\n",
    "            p = 'chi_p'\n",
    "            pf.plot_posterior(ax, chip_posterior, pf.xlims[p], chip_ymax, pf.params[p], **hist_kws, zorder=5-n)\n",
    "            pf.plot_posterior(ax, chip_prior, pf.xlims[p], chip_ymax, pf.params[p], **prior_hist_kws)\n",
    "\n",
    "            if '270' in mtotal:\n",
    "\n",
    "                # plot true value\n",
    "                ax.axvline(injected_params_dict[mtotal][p], color='k', lw=2, ls='--')\n",
    "\n",
    "                # label\n",
    "                t_M = pf.transform_s_to_M(float(t), float(injected_params_dict[mtotal]['mtotal']))\n",
    "                t_M = np.round(t_M, 2)\n",
    "                ax.text(0.07, 0.93, fr'{prepost} {t_M} $M$', fontsize=16, bbox=bbox_dict,\n",
    "                             transform=ax.transAxes, verticalalignment='top', horizontalalignment='left')\n",
    "\n",
    "                ax.set_ylabel('Probability\\ndensity')\n",
    "\n",
    "    plt.subplots_adjust(hspace=0.3, wspace=0.3)\n",
    "    \n",
    "    \n",
    "    # savename\n",
    "    savename = f'for_gif_figure_04/frame{n:02}.png'\n",
    "    plt.savefig(savename, dpi=300, bbox_inches='tight')\n",
    "    plt.close()\n",
    "    \n",
    "    # append to `frames` which will be used to make the gif\n",
    "    image = imageio.v2.imread(savename)\n",
    "    frames.append(image)"
   ]
  },
  {
   "cell_type": "code",
   "execution_count": null,
   "id": "574c5592-7a85-48fa-aaf6-595056aae7e8",
   "metadata": {},
   "outputs": [],
   "source": [
    "# Assemble into a gif\n",
    "fps = 1.5\n",
    "imageio.mimsave('gif_figure_04.gif', frames, fps=fps) "
   ]
  }
 ],
 "metadata": {
  "kernelspec": {
   "display_name": "numpyro",
   "language": "python",
   "name": "numpyro"
  },
  "language_info": {
   "codemirror_mode": {
    "name": "ipython",
    "version": 3
   },
   "file_extension": ".py",
   "mimetype": "text/x-python",
   "name": "python",
   "nbconvert_exporter": "python",
   "pygments_lexer": "ipython3",
   "version": "3.12.0"
  }
 },
 "nbformat": 4,
 "nbformat_minor": 5
}
