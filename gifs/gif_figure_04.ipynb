{
 "cells": [
  {
   "cell_type": "markdown",
   "id": "06e3a2be-3e0b-4bdd-863b-1d5410ec0650",
   "metadata": {},
   "source": [
    "# Notebook to make `gif` version of Figure x"
   ]
  },
  {
   "cell_type": "code",
   "execution_count": null,
   "id": "35ce1b40-c7e7-42fb-8cfd-5b57392489a1",
   "metadata": {},
   "outputs": [],
   "source": [
    "# Import necessary packages & set-up plotting aesthetics\n",
    "\n",
    "import numpy as np \n",
    "import importlib\n",
    "import json\n",
    "import h5ify\n",
    "import os\n",
    "import tqdm\n",
    "import imageio\n",
    "\n",
    "import matplotlib\n",
    "%matplotlib inline\n",
    "%config InlineBackend.figure_format = 'retina'\n",
    "import matplotlib.pyplot as plt\n",
    "from matplotlib import style\n",
    "style.use('../utils/plotting.mplstyle')\n",
    "from matplotlib.lines import Line2D\n",
    "\n",
    "import seaborn as sns\n",
    "cp = sns.color_palette('muted')\n",
    "cp2 = sns.color_palette('pastel')\n",
    "\n",
    "import sys\n",
    "sys.path.append('../utils')\n",
    "import plotting_functions as pf\n",
    "\n",
    "# where data is saved\n",
    "data_dir = '../data/xx/'"
   ]
  },
  {
   "cell_type": "markdown",
   "id": "5af05488-fd30-43c3-af2e-f526f60253ed",
   "metadata": {},
   "source": [
    "### Setup"
   ]
  },
  {
   "cell_type": "markdown",
   "id": "a901edfe-9585-4123-b165-60b1c05860e5",
   "metadata": {},
   "source": [
    "Load data"
   ]
  },
  {
   "cell_type": "code",
   "execution_count": null,
   "id": "d7b4d85c-9b77-4ab2-9f2e-dc26cb352b70",
   "metadata": {},
   "outputs": [],
   "source": []
  }
 ],
 "metadata": {
  "kernelspec": {
   "display_name": "numpyro",
   "language": "python",
   "name": "numpyro"
  },
  "language_info": {
   "codemirror_mode": {
    "name": "ipython",
    "version": 3
   },
   "file_extension": ".py",
   "mimetype": "text/x-python",
   "name": "python",
   "nbconvert_exporter": "python",
   "pygments_lexer": "ipython3",
   "version": "3.12.0"
  }
 },
 "nbformat": 4,
 "nbformat_minor": 5
}
