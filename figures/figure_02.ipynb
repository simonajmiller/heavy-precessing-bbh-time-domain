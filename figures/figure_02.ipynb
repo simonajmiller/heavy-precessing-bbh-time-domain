{
 "cells": [
  {
   "cell_type": "markdown",
   "id": "435a2595-dc35-474d-8641-026fd8c6da0a",
   "metadata": {},
   "source": [
    "# Notebook to make Figure 2"
   ]
  },
  {
   "cell_type": "code",
   "execution_count": null,
   "id": "850fa80f-57e7-4f0e-8534-bed35ef5074e",
   "metadata": {},
   "outputs": [],
   "source": [
    "# Import necessary packages & set-up plotting aesthetics\n",
    "\n",
    "import numpy as np \n",
    "import importlib\n",
    "import json\n",
    "import h5ify\n",
    "import os\n",
    "import tqdm\n",
    "import imageio\n",
    "\n",
    "import matplotlib\n",
    "%matplotlib inline\n",
    "%config InlineBackend.figure_format = 'retina'\n",
    "import matplotlib.pyplot as plt\n",
    "from matplotlib import style\n",
    "style.use('../utils/plotting.mplstyle')\n",
    "from matplotlib.lines import Line2D\n",
    "\n",
    "import seaborn as sns\n",
    "cp = sns.color_palette('muted')\n",
    "cp2 = sns.color_palette('pastel')\n",
    "\n",
    "import sys\n",
    "sys.path.append('../utils')\n",
    "import plotting_functions as pf\n",
    "\n",
    "# where data is saved\n",
    "data_dir = '../data/xx/'"
   ]
  }
 ],
 "metadata": {
  "kernelspec": {
   "display_name": "numpyro",
   "language": "python",
   "name": "numpyro"
  },
  "language_info": {
   "codemirror_mode": {
    "name": "ipython",
    "version": 3
   },
   "file_extension": ".py",
   "mimetype": "text/x-python",
   "name": "python",
   "nbconvert_exporter": "python",
   "pygments_lexer": "ipython3",
   "version": "3.12.0"
  }
 },
 "nbformat": 4,
 "nbformat_minor": 5
}
