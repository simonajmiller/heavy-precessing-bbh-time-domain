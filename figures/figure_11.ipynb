{
 "cells": [
  {
   "cell_type": "markdown",
   "id": "435a2595-dc35-474d-8641-026fd8c6da0a",
   "metadata": {},
   "source": [
    "# Notebook to make Figure x"
   ]
  },
  {
   "cell_type": "code",
   "execution_count": 1,
   "id": "850fa80f-57e7-4f0e-8534-bed35ef5074e",
   "metadata": {},
   "outputs": [],
   "source": [
    "# Import necessary packages & set-up plotting aesthetics\n",
    "\n",
    "import numpy as np \n",
    "import importlib\n",
    "import json\n",
    "import h5ify\n",
    "import os\n",
    "import tqdm\n",
    "import imageio\n",
    "\n",
    "import matplotlib\n",
    "%matplotlib inline\n",
    "%config InlineBackend.figure_format = 'retina'\n",
    "import matplotlib.pyplot as plt\n",
    "from matplotlib import style\n",
    "style.use('../utils/plotting.mplstyle')\n",
    "from matplotlib.lines import Line2D\n",
    "\n",
    "import seaborn as sns\n",
    "sns.set_palette('coolwarm')\n",
    "\n",
    "from matplotlib.colors import LinearSegmentedColormap\n",
    "cmap = LinearSegmentedColormap.from_list(\"my_cmap\", ['C3','C5', 'C0'])\n",
    "\n",
    "import sys\n",
    "sys.path.append('../utils')\n",
    "import plotting_functions as pf\n",
    "\n",
    "# where data is saved\n",
    "data_dir = '../data/xx/'"
   ]
  },
  {
   "cell_type": "markdown",
   "id": "a3aa8b36-3717-4920-9094-6868aad0d3ae",
   "metadata": {},
   "source": [
    "### Setup"
   ]
  },
  {
   "cell_type": "markdown",
   "id": "e5f33e9a-d0bb-4862-8c78-07665b560b33",
   "metadata": {},
   "source": [
    "Load data"
   ]
  },
  {
   "cell_type": "code",
   "execution_count": null,
   "id": "b3f52cb6-c498-4a1e-8258-cf8a784e1c90",
   "metadata": {},
   "outputs": [],
   "source": []
  },
  {
   "cell_type": "markdown",
   "id": "9b2c4c78-b6bc-4cf1-bba7-59cb5d83dbab",
   "metadata": {},
   "source": [
    "Set up plotting aesthetics"
   ]
  },
  {
   "cell_type": "code",
   "execution_count": null,
   "id": "27437187-74d0-4bee-828a-0ee435a48d25",
   "metadata": {},
   "outputs": [],
   "source": []
  },
  {
   "cell_type": "markdown",
   "id": "c466fdfe-069a-41b7-a167-c1d960ce33bd",
   "metadata": {},
   "source": [
    "### Make Figure"
   ]
  },
  {
   "cell_type": "code",
   "execution_count": null,
   "id": "89ba1c0a-7b5e-4982-be28-ea060535b3f6",
   "metadata": {},
   "outputs": [],
   "source": []
  },
  {
   "cell_type": "code",
   "execution_count": null,
   "id": "52bfc972-9430-4bc6-863a-a24dba6b831c",
   "metadata": {},
   "outputs": [],
   "source": []
  }
 ],
 "metadata": {
  "kernelspec": {
   "display_name": "numpyro",
   "language": "python",
   "name": "numpyro"
  },
  "language_info": {
   "codemirror_mode": {
    "name": "ipython",
    "version": 3
   },
   "file_extension": ".py",
   "mimetype": "text/x-python",
   "name": "python",
   "nbconvert_exporter": "python",
   "pygments_lexer": "ipython3",
   "version": "3.12.0"
  }
 },
 "nbformat": 4,
 "nbformat_minor": 5
}
